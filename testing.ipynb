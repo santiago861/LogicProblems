{
 "cells": [
  {
   "cell_type": "code",
   "execution_count": 8,
   "metadata": {},
   "outputs": [
    {
     "name": "stdout",
     "output_type": "stream",
     "text": [
      "1271\n"
     ]
    },
    {
     "data": {
      "text/plain": [
       "'10011110111'"
      ]
     },
     "execution_count": 8,
     "metadata": {},
     "output_type": "execute_result"
    }
   ],
   "source": [
    "binary = '10011110111'\n",
    "\n",
    "decimal = int(binary, 2)\n",
    "print(decimal)\n",
    "\n",
    "binary2 = bin(decimal)\n",
    "binary2[2:]"
   ]
  },
  {
   "cell_type": "code",
   "execution_count": 15,
   "metadata": {},
   "outputs": [
    {
     "name": "stdout",
     "output_type": "stream",
     "text": [
      "                   #\n",
      "                  ###\n",
      "                 #####\n",
      "                #######\n",
      "               #########\n",
      "              ###########\n",
      "             #############\n",
      "            ###############\n",
      "           #################\n",
      "          ###################\n",
      "         #####################\n",
      "        #######################\n",
      "       #########################\n",
      "      ###########################\n",
      "     #############################\n",
      "    ###############################\n",
      "   #################################\n",
      "  ###################################\n",
      " #####################################\n",
      "#######################################\n"
     ]
    }
   ],
   "source": [
    "altitude = 20\n",
    "count = 1\n",
    "\n",
    "for i in range(0, altitude):\n",
    "    print(((' ') * (altitude - count)) + ('#') * (count +  i))\n",
    "    count += 1\n"
   ]
  },
  {
   "cell_type": "code",
   "execution_count": 21,
   "metadata": {},
   "outputs": [
    {
     "name": "stdout",
     "output_type": "stream",
     "text": [
      "###################\n",
      " #################\n",
      "  ############### \n",
      "   #############  \n",
      "    ###########   \n",
      "     #########    \n",
      "      #######     \n",
      "       #####      \n",
      "        ###       \n",
      "         #        \n"
     ]
    }
   ],
   "source": [
    "altitude = 10\n",
    "count = 1\n",
    "lines = []\n",
    "\n",
    "inverted = True\n",
    "\n",
    "for i in range(0, altitude):\n",
    "\n",
    "    strLine = (' ') * (altitude - (i + 1)) + ('#') * (count + i) + (' ') * (altitude - (i + 2))\n",
    "    count += 1\n",
    "    lines.append(strLine)\n",
    "\n",
    "if inverted:\n",
    "    for i in range(len(lines) - 1, -1, -1):\n",
    "        print(lines[i])\n",
    "\n",
    "else:\n",
    "    for line in lines:\n",
    "        print(line)\n",
    "\n",
    "    "
   ]
  },
  {
   "cell_type": "code",
   "execution_count": 16,
   "metadata": {},
   "outputs": [
    {
     "data": {
      "text/plain": [
       "'YES'"
      ]
     },
     "execution_count": 16,
     "metadata": {},
     "output_type": "execute_result"
    }
   ],
   "source": [
    "a1 = [2,1,3]\n",
    "a2 = [7,8,9]\n",
    "k = 10\n",
    "\n",
    "\n",
    "def twoArrays(k, A, B):\n",
    "    A = sorted(A)\n",
    "    B = sorted(B)\n",
    "    B.reverse()\n",
    "    flag = True\n",
    "\n",
    "    for i in range(0, len(A)):\n",
    "        if A[i] + B[i] < k:\n",
    "            flag = False\n",
    "    \n",
    "    return 'YES' if flag else 'NO'\n",
    "\n",
    "twoArrays(k, a1, a2)"
   ]
  },
  {
   "cell_type": "code",
   "execution_count": 50,
   "metadata": {},
   "outputs": [],
   "source": [
    "# Insertion Sort implementation\n",
    "# optimal only on relative small datasets, no more than 10,000 elements\n",
    "# it runs in O(n^2)\n",
    "# the expensive operation is swaping value, each time we make a swap, three operation take place\n",
    "\n",
    "\n",
    "\n",
    "# def insertionSort(arr):\n",
    "#     for i in range(1, len(arr)):\n",
    "#         currentVal = arr[i]\n",
    "#         j = i - 1\n",
    "#         while j >= 0 and arr[j] > currentVal:\n",
    "#             arr[j + 1] = arr[j]\n",
    "#             j -= 1\n",
    "#         # print(arr, currentVal) # -- uncomment to see changes\n",
    "#         arr[j + 1] = currentVal\n",
    "\n",
    "#     return arr\n",
    "\n",
    "# print(insertionSort(arr))\n"
   ]
  },
  {
   "cell_type": "code",
   "execution_count": 65,
   "metadata": {},
   "outputs": [
    {
     "name": "stdout",
     "output_type": "stream",
     "text": [
      "[2, 234, 12, 64, 83, 23, 47, 982, 1, 3, 4, 2, 12, 54, 334, 64, 865, 32] 2 1\n",
      "[1, 234, 12, 64, 83, 23, 47, 982, 2, 3, 4, 2, 12, 54, 334, 64, 865, 32] 234 2\n",
      "[1, 2, 12, 64, 83, 23, 47, 982, 234, 3, 4, 2, 12, 54, 334, 64, 865, 32] 12 2\n",
      "[1, 2, 2, 64, 83, 23, 47, 982, 234, 3, 4, 12, 12, 54, 334, 64, 865, 32] 64 3\n",
      "[1, 2, 2, 3, 83, 23, 47, 982, 234, 64, 4, 12, 12, 54, 334, 64, 865, 32] 83 4\n",
      "[1, 2, 2, 3, 4, 23, 47, 982, 234, 64, 83, 12, 12, 54, 334, 64, 865, 32] 23 12\n",
      "[1, 2, 2, 3, 4, 12, 47, 982, 234, 64, 83, 23, 12, 54, 334, 64, 865, 32] 47 12\n",
      "[1, 2, 2, 3, 4, 12, 12, 982, 234, 64, 83, 23, 47, 54, 334, 64, 865, 32] 982 23\n",
      "[1, 2, 2, 3, 4, 12, 12, 23, 234, 64, 83, 982, 47, 54, 334, 64, 865, 32] 234 32\n",
      "[1, 2, 2, 3, 4, 12, 12, 23, 32, 64, 83, 982, 47, 54, 334, 64, 865, 234] 64 47\n",
      "[1, 2, 2, 3, 4, 12, 12, 23, 32, 47, 83, 982, 64, 54, 334, 64, 865, 234] 83 54\n",
      "[1, 2, 2, 3, 4, 12, 12, 23, 32, 47, 54, 982, 64, 83, 334, 64, 865, 234] 982 64\n",
      "[1, 2, 2, 3, 4, 12, 12, 23, 32, 47, 54, 64, 982, 83, 334, 64, 865, 234] 982 64\n",
      "[1, 2, 2, 3, 4, 12, 12, 23, 32, 47, 54, 64, 64, 83, 334, 982, 865, 234] 83 83\n",
      "[1, 2, 2, 3, 4, 12, 12, 23, 32, 47, 54, 64, 64, 83, 334, 982, 865, 234] 334 234\n",
      "[1, 2, 2, 3, 4, 12, 12, 23, 32, 47, 54, 64, 64, 83, 234, 982, 865, 334] 982 334\n",
      "[1, 2, 2, 3, 4, 12, 12, 23, 32, 47, 54, 64, 64, 83, 234, 334, 865, 982] 865 865\n"
     ]
    },
    {
     "data": {
      "text/plain": [
       "[1, 2, 2, 3, 4, 12, 12, 23, 32, 47, 54, 64, 64, 83, 234, 334, 865, 982]"
      ]
     },
     "execution_count": 65,
     "metadata": {},
     "output_type": "execute_result"
    }
   ],
   "source": [
    "# Selection Sort implementation\n",
    "# optimal only on relative small datasets, no more than 10,000 elements\n",
    "# it runs in O(n^2)\n",
    "\n",
    "arr = [2, 234, 12, 64, 83, 23, 47, 982, 1, 3, 4, 2, 12, 54, 334, 64, 865, 32]\n",
    "arr2 = [1, 7, 8, 2, 3]\n",
    "\n",
    "def selectionSort(arr):\n",
    "    for i in range (0, len(arr) - 1):\n",
    "        minIndex = i\n",
    "        for j in range(i + 1, len(arr)):\n",
    "            if arr[j] < arr[minIndex]:\n",
    "                minIndex = j\n",
    "        # print(arr, arr[i], arr[minIndex]) # -- uncomment to see changes\n",
    "        if minIndex != i:\n",
    "            temp = arr[minIndex]\n",
    "            arr[minIndex] = arr[i]\n",
    "            arr[i] = temp\n",
    "    return arr\n",
    "\n",
    "selectionSort(arr)\n"
   ]
  },
  {
   "cell_type": "code",
   "execution_count": 52,
   "metadata": {},
   "outputs": [],
   "source": [
    "# minv = 1\n",
    "# arr[arr.index(minv)] = 100\n",
    "# print(arr)"
   ]
  }
 ],
 "metadata": {
  "kernelspec": {
   "display_name": "base",
   "language": "python",
   "name": "python3"
  },
  "language_info": {
   "codemirror_mode": {
    "name": "ipython",
    "version": 3
   },
   "file_extension": ".py",
   "mimetype": "text/x-python",
   "name": "python",
   "nbconvert_exporter": "python",
   "pygments_lexer": "ipython3",
   "version": "3.12.7"
  }
 },
 "nbformat": 4,
 "nbformat_minor": 2
}
