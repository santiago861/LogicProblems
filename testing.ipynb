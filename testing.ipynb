{
 "cells": [
  {
   "cell_type": "code",
   "execution_count": 8,
   "metadata": {},
   "outputs": [
    {
     "name": "stdout",
     "output_type": "stream",
     "text": [
      "1271\n"
     ]
    },
    {
     "data": {
      "text/plain": [
       "'10011110111'"
      ]
     },
     "execution_count": 8,
     "metadata": {},
     "output_type": "execute_result"
    }
   ],
   "source": [
    "binary = '10011110111'\n",
    "\n",
    "decimal = int(binary, 2)\n",
    "print(decimal)\n",
    "\n",
    "binary2 = bin(decimal)\n",
    "binary2[2:]"
   ]
  },
  {
   "cell_type": "code",
   "execution_count": 1,
   "metadata": {},
   "outputs": [
    {
     "name": "stdout",
     "output_type": "stream",
     "text": [
      "234\n"
     ]
    }
   ],
   "source": [
    "arr = [23, 234, 53, 2, 1, 56]\n",
    "print(max(arr))"
   ]
  },
  {
   "cell_type": "code",
   "execution_count": 3,
   "metadata": {},
   "outputs": [
    {
     "name": "stdout",
     "output_type": "stream",
     "text": [
      "100\n"
     ]
    }
   ],
   "source": [
    "n = 100\n",
    "\n",
    "arr = [0]*n\n",
    "print(len(arr))"
   ]
  },
  {
   "cell_type": "code",
   "execution_count": 2,
   "metadata": {},
   "outputs": [
    {
     "name": "stdout",
     "output_type": "stream",
     "text": [
      "56\n"
     ]
    }
   ],
   "source": [
    "maxElem = max(23, 24, 56, 23)\n",
    "print(maxElem)\n"
   ]
  },
  {
   "cell_type": "code",
   "execution_count": 15,
   "metadata": {},
   "outputs": [
    {
     "name": "stdout",
     "output_type": "stream",
     "text": [
      "                   #\n",
      "                  ###\n",
      "                 #####\n",
      "                #######\n",
      "               #########\n",
      "              ###########\n",
      "             #############\n",
      "            ###############\n",
      "           #################\n",
      "          ###################\n",
      "         #####################\n",
      "        #######################\n",
      "       #########################\n",
      "      ###########################\n",
      "     #############################\n",
      "    ###############################\n",
      "   #################################\n",
      "  ###################################\n",
      " #####################################\n",
      "#######################################\n"
     ]
    }
   ],
   "source": [
    "altitude = 20\n",
    "count = 1\n",
    "\n",
    "for i in range(0, altitude):\n",
    "    print(((' ') * (altitude - count)) + ('#') * (count +  i))\n",
    "    count += 1\n"
   ]
  },
  {
   "cell_type": "code",
   "execution_count": 21,
   "metadata": {},
   "outputs": [
    {
     "name": "stdout",
     "output_type": "stream",
     "text": [
      "###################\n",
      " #################\n",
      "  ############### \n",
      "   #############  \n",
      "    ###########   \n",
      "     #########    \n",
      "      #######     \n",
      "       #####      \n",
      "        ###       \n",
      "         #        \n"
     ]
    }
   ],
   "source": [
    "altitude = 10\n",
    "count = 1\n",
    "lines = []\n",
    "\n",
    "inverted = True\n",
    "\n",
    "for i in range(0, altitude):\n",
    "\n",
    "    strLine = (' ') * (altitude - (i + 1)) + ('#') * (count + i) + (' ') * (altitude - (i + 2))\n",
    "    count += 1\n",
    "    lines.append(strLine)\n",
    "\n",
    "if inverted:\n",
    "    for i in range(len(lines) - 1, -1, -1):\n",
    "        print(lines[i])\n",
    "\n",
    "else:\n",
    "    for line in lines:\n",
    "        print(line)\n",
    "\n",
    "    "
   ]
  },
  {
   "cell_type": "code",
   "execution_count": null,
   "metadata": {},
   "outputs": [
    {
     "ename": "SyntaxError",
     "evalue": "invalid syntax (3275078106.py, line 4)",
     "output_type": "error",
     "traceback": [
      "\u001b[0;36m  Cell \u001b[0;32mIn[7], line 4\u001b[0;36m\u001b[0m\n\u001b[0;31m    print(arr2.index(,[arr[0] - 12]))\u001b[0m\n\u001b[0m                     ^\u001b[0m\n\u001b[0;31mSyntaxError\u001b[0m\u001b[0;31m:\u001b[0m invalid syntax\n"
     ]
    }
   ],
   "source": [
    "arr = [23,34,2,1,35]\n",
    "arr2 = [12, 123, 43, 43, 34]\n",
    "\n",
    "print(arr2.index([arr[0] - 12]))"
   ]
  }
 ],
 "metadata": {
  "kernelspec": {
   "display_name": "base",
   "language": "python",
   "name": "python3"
  },
  "language_info": {
   "codemirror_mode": {
    "name": "ipython",
    "version": 3
   },
   "file_extension": ".py",
   "mimetype": "text/x-python",
   "name": "python",
   "nbconvert_exporter": "python",
   "pygments_lexer": "ipython3",
   "version": "3.12.7"
  }
 },
 "nbformat": 4,
 "nbformat_minor": 2
}
