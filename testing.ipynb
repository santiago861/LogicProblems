{
 "cells": [
  {
   "cell_type": "code",
   "execution_count": 8,
   "metadata": {},
   "outputs": [
    {
     "name": "stdout",
     "output_type": "stream",
     "text": [
      "1271\n"
     ]
    },
    {
     "data": {
      "text/plain": [
       "'10011110111'"
      ]
     },
     "execution_count": 8,
     "metadata": {},
     "output_type": "execute_result"
    }
   ],
   "source": [
    "binary = '10011110111'\n",
    "\n",
    "decimal = int(binary, 2)\n",
    "print(decimal)\n",
    "\n",
    "binary2 = bin(decimal)\n",
    "binary2[2:]"
   ]
  },
  {
   "cell_type": "code",
   "execution_count": 15,
   "metadata": {},
   "outputs": [
    {
     "name": "stdout",
     "output_type": "stream",
     "text": [
      "                   #\n",
      "                  ###\n",
      "                 #####\n",
      "                #######\n",
      "               #########\n",
      "              ###########\n",
      "             #############\n",
      "            ###############\n",
      "           #################\n",
      "          ###################\n",
      "         #####################\n",
      "        #######################\n",
      "       #########################\n",
      "      ###########################\n",
      "     #############################\n",
      "    ###############################\n",
      "   #################################\n",
      "  ###################################\n",
      " #####################################\n",
      "#######################################\n"
     ]
    }
   ],
   "source": [
    "altitude = 20\n",
    "count = 1\n",
    "\n",
    "for i in range(0, altitude):\n",
    "    print(((' ') * (altitude - count)) + ('#') * (count +  i))\n",
    "    count += 1\n"
   ]
  },
  {
   "cell_type": "code",
   "execution_count": 21,
   "metadata": {},
   "outputs": [
    {
     "name": "stdout",
     "output_type": "stream",
     "text": [
      "###################\n",
      " #################\n",
      "  ############### \n",
      "   #############  \n",
      "    ###########   \n",
      "     #########    \n",
      "      #######     \n",
      "       #####      \n",
      "        ###       \n",
      "         #        \n"
     ]
    }
   ],
   "source": [
    "altitude = 10\n",
    "count = 1\n",
    "lines = []\n",
    "\n",
    "inverted = True\n",
    "\n",
    "for i in range(0, altitude):\n",
    "\n",
    "    strLine = (' ') * (altitude - (i + 1)) + ('#') * (count + i) + (' ') * (altitude - (i + 2))\n",
    "    count += 1\n",
    "    lines.append(strLine)\n",
    "\n",
    "if inverted:\n",
    "    for i in range(len(lines) - 1, -1, -1):\n",
    "        print(lines[i])\n",
    "\n",
    "else:\n",
    "    for line in lines:\n",
    "        print(line)\n",
    "\n",
    "    "
   ]
  },
  {
   "cell_type": "code",
   "execution_count": 11,
   "metadata": {},
   "outputs": [
    {
     "name": "stdout",
     "output_type": "stream",
     "text": [
      "[1, 2, 23, 34, 35]\n"
     ]
    }
   ],
   "source": [
    "arr = [23,34,2,1,35]\n",
    "arr2 = [12, 123, 43, 43, 34]\n",
    "\n",
    "arree = sorted(arr)\n",
    "\n",
    "print(arree)"
   ]
  },
  {
   "cell_type": "code",
   "execution_count": 16,
   "metadata": {},
   "outputs": [
    {
     "data": {
      "text/plain": [
       "'YES'"
      ]
     },
     "execution_count": 16,
     "metadata": {},
     "output_type": "execute_result"
    }
   ],
   "source": [
    "a1 = [2,1,3]\n",
    "a2 = [7,8,9]\n",
    "k = 10\n",
    "\n",
    "\n",
    "def twoArrays(k, A, B):\n",
    "    A = sorted(A)\n",
    "    B = sorted(B)\n",
    "    B.reverse()\n",
    "    flag = True\n",
    "\n",
    "    for i in range(0, len(A)):\n",
    "        if A[i] + B[i] < k:\n",
    "            flag = False\n",
    "    \n",
    "    return 'YES' if flag else 'NO'\n",
    "\n",
    "twoArrays(k, a1, a2)"
   ]
  },
  {
   "cell_type": "code",
   "execution_count": 71,
   "metadata": {},
   "outputs": [
    {
     "name": "stdout",
     "output_type": "stream",
     "text": [
      "[1, 2, 2, 3, 4, 12, 12, 23, 32, 47, 54, 64, 64, 83, 234, 334, 865, 982]\n"
     ]
    }
   ],
   "source": [
    "# optimal only on relative small datasets, no more than 10,000 elements\n",
    "# it runs in O(n^2)\n",
    "# the expensive operation is swaping value, each time we make a swap, three operation take place\n",
    "\n",
    "arr = [2, 234, 12, 64, 83, 23, 47, 982, 1, 3, 4, 2, 12, 54, 334, 64, 865, 32]\n",
    "arr2 = [1, 7, 8, 2, 3]\n",
    "\n",
    "def insertionSort(arr):\n",
    "    for i in range(1, len(arr)):\n",
    "        currentVal = arr[i]\n",
    "        j = i - 1\n",
    "        while j >= 0 and arr[j] > currentVal:\n",
    "            arr[j + 1] = arr[j]\n",
    "            j -= 1\n",
    "        arr[j + 1] = currentVal\n",
    "    return arr\n",
    "\n",
    "print(insertionSort(arr))\n"
   ]
  }
 ],
 "metadata": {
  "kernelspec": {
   "display_name": "base",
   "language": "python",
   "name": "python3"
  },
  "language_info": {
   "codemirror_mode": {
    "name": "ipython",
    "version": 3
   },
   "file_extension": ".py",
   "mimetype": "text/x-python",
   "name": "python",
   "nbconvert_exporter": "python",
   "pygments_lexer": "ipython3",
   "version": "3.12.7"
  }
 },
 "nbformat": 4,
 "nbformat_minor": 2
}
